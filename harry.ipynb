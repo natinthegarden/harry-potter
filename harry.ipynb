{
 "cells": [
  {
   "attachments": {},
   "cell_type": "markdown",
   "metadata": {},
   "source": [
    "<h1>Harry Potter Fan Fiction Data Set Analysis</h1>\n",
    "\n",
    "<i>This is a student project practicing data analysis</i>\n",
    "\n",
    "<b>Link:</b>https://www.kaggle.com/datasets/nehatiwari03/harry-potter-fanfiction-data/versions/1?resource=download\n",
    "\n",
    "\n",
    "This data set was created by a Kaggle user. She scraped data from Harry Potter fanfiction.net. It contains all HP Fanfic entries written between 2001-2019 in all available languages. The data doesn't contain the story itself but just the story blurb.\n",
    "\n",
    "\n",
    "\n",
    "<b>Original Columns</b> of this data set include:\n",
    "\n",
    "<b>Chapters</b>: Number of Chapters in the story\n",
    "\n",
    "<b>Favs</b>: Number of users that favorited the story\n",
    "\n",
    "<b>Follows</b>: Number of users that followed the story\n",
    "\n",
    "<b>Published</b>: Date Published\n",
    "\n",
    "<b>Reviews</b>: Number of Reviews\n",
    "\n",
    "<b>Date Updated</b>: Date Updated\n",
    "\n",
    "<b>Author</b>: Author username on FanFic.net\n",
    "\n",
    "<b>Characters</b>: Characters that appear in the story.\n",
    "\n",
    "<b>Genre</b>: Genre of the story (according to the author)\n",
    "\n",
    "<b>Language</b>: Language the story was written in\n",
    "\n",
    "<b>Rating</b>: alphabetic rating decided by the author\n",
    "\n",
    "<b>Story Link</b>: story URl\n",
    "\n",
    "<b>Synopsis</b>: summary/blurb added by author\n",
    "\n",
    "<b>Title</b>: Title of the story\n",
    "\n",
    "<b>Published mmyy</b>: Month and year of publish date\n",
    "\n",
    "<b>Pairing</b>: Character pairing in the story."
   ]
  },
  {
   "attachments": {},
   "cell_type": "markdown",
   "metadata": {},
   "source": [
    "<b>Project Requirement:<b>Read Data from local CSV\n",
    "\n",
    "First, I import pandas and the read CSV file!"
   ]
  },
  {
   "cell_type": "code",
   "execution_count": 3,
   "metadata": {},
   "outputs": [],
   "source": [
    "import pandas as pd\n",
    "harry_df = pd.read_csv('/Users/natalyanaser/desktop/hpcleanvlarge1.csv')"
   ]
  },
  {
   "attachments": {},
   "cell_type": "markdown",
   "metadata": {},
   "source": [
    "<h2>Exploring the Data<h2>\n",
    "I use the head funtion to preview the raw data and check that it loaded properly."
   ]
  },
  {
   "cell_type": "code",
   "execution_count": 4,
   "metadata": {},
   "outputs": [
    {
     "data": {
      "text/html": [
       "<div>\n",
       "<style scoped>\n",
       "    .dataframe tbody tr th:only-of-type {\n",
       "        vertical-align: middle;\n",
       "    }\n",
       "\n",
       "    .dataframe tbody tr th {\n",
       "        vertical-align: top;\n",
       "    }\n",
       "\n",
       "    .dataframe thead th {\n",
       "        text-align: right;\n",
       "    }\n",
       "</style>\n",
       "<table border=\"1\" class=\"dataframe\">\n",
       "  <thead>\n",
       "    <tr style=\"text-align: right;\">\n",
       "      <th></th>\n",
       "      <th>Chapters</th>\n",
       "      <th>Favs</th>\n",
       "      <th>Follows</th>\n",
       "      <th>Published</th>\n",
       "      <th>Reviews</th>\n",
       "      <th>Updated</th>\n",
       "      <th>Words</th>\n",
       "      <th>author</th>\n",
       "      <th>characters</th>\n",
       "      <th>genre</th>\n",
       "      <th>language</th>\n",
       "      <th>rating</th>\n",
       "      <th>story_link</th>\n",
       "      <th>synopsis</th>\n",
       "      <th>title</th>\n",
       "      <th>published_mmyy</th>\n",
       "      <th>pairing</th>\n",
       "    </tr>\n",
       "  </thead>\n",
       "  <tbody>\n",
       "    <tr>\n",
       "      <th>0</th>\n",
       "      <td>1</td>\n",
       "      <td>2</td>\n",
       "      <td>NaN</td>\n",
       "      <td>12/31/2019</td>\n",
       "      <td>1.0</td>\n",
       "      <td>NaN</td>\n",
       "      <td>6,840</td>\n",
       "      <td>reviews</td>\n",
       "      <td>Sirius B., Remus L., James P., Regulus B.</td>\n",
       "      <td>Angst/Hurt/Comfort</td>\n",
       "      <td>English</td>\n",
       "      <td>T</td>\n",
       "      <td>https://www.fanfiction.net/s/13466909/1/If-You...</td>\n",
       "      <td>Regulus and James aren't happy. They know they...</td>\n",
       "      <td>If You Change Your Mind</td>\n",
       "      <td>12-2019</td>\n",
       "      <td>NaN</td>\n",
       "    </tr>\n",
       "    <tr>\n",
       "      <th>1</th>\n",
       "      <td>1</td>\n",
       "      <td>1</td>\n",
       "      <td>NaN</td>\n",
       "      <td>12/31/2019</td>\n",
       "      <td>NaN</td>\n",
       "      <td>NaN</td>\n",
       "      <td>10,962</td>\n",
       "      <td>JoyI9199</td>\n",
       "      <td>Harry P., Draco M., Narcissa M., Charlie W.</td>\n",
       "      <td>Angst/Drama</td>\n",
       "      <td>English</td>\n",
       "      <td>M</td>\n",
       "      <td>https://www.fanfiction.net/s/13466894/1/Bloody...</td>\n",
       "      <td>When a plot from the Founder's age is revealed...</td>\n",
       "      <td>Bloody Ballgowns</td>\n",
       "      <td>12-2019</td>\n",
       "      <td>NaN</td>\n",
       "    </tr>\n",
       "    <tr>\n",
       "      <th>2</th>\n",
       "      <td>1</td>\n",
       "      <td>3</td>\n",
       "      <td>2</td>\n",
       "      <td>12/31/2019</td>\n",
       "      <td>NaN</td>\n",
       "      <td>NaN</td>\n",
       "      <td>8,592</td>\n",
       "      <td>MoonytheMarauder1</td>\n",
       "      <td>[James P., Regulus B.]</td>\n",
       "      <td>Angst</td>\n",
       "      <td>English</td>\n",
       "      <td>M</td>\n",
       "      <td>https://www.fanfiction.net/s/13466885/1/Nothin...</td>\n",
       "      <td>Regulus Black is supposed to be dead, but he's...</td>\n",
       "      <td>Nothing Left To Do</td>\n",
       "      <td>12-2019</td>\n",
       "      <td>James P., Regulus B.</td>\n",
       "    </tr>\n",
       "    <tr>\n",
       "      <th>3</th>\n",
       "      <td>2</td>\n",
       "      <td>NaN</td>\n",
       "      <td>NaN</td>\n",
       "      <td>12/31/2019</td>\n",
       "      <td>NaN</td>\n",
       "      <td>NaN</td>\n",
       "      <td>7,260</td>\n",
       "      <td>LaviniaKatt</td>\n",
       "      <td>Cedric D.</td>\n",
       "      <td>Romance/Fantasy</td>\n",
       "      <td>English</td>\n",
       "      <td>M</td>\n",
       "      <td>https://www.fanfiction.net/s/13466880/1/Patien...</td>\n",
       "      <td>This is a spin off of Harry Potter taking plac...</td>\n",
       "      <td>Patience is a Virtue</td>\n",
       "      <td>12-2019</td>\n",
       "      <td>NaN</td>\n",
       "    </tr>\n",
       "    <tr>\n",
       "      <th>4</th>\n",
       "      <td>1</td>\n",
       "      <td>4</td>\n",
       "      <td>3</td>\n",
       "      <td>12/31/2019</td>\n",
       "      <td>NaN</td>\n",
       "      <td>NaN</td>\n",
       "      <td>1,529</td>\n",
       "      <td>Rowena-Moon-Moon</td>\n",
       "      <td>NaN</td>\n",
       "      <td>NaN</td>\n",
       "      <td>English</td>\n",
       "      <td>T</td>\n",
       "      <td>https://www.fanfiction.net/s/13466807/1/An-Und...</td>\n",
       "      <td>Harry makes a new discovery and perhaps a few ...</td>\n",
       "      <td>An Understanding</td>\n",
       "      <td>12-2019</td>\n",
       "      <td>NaN</td>\n",
       "    </tr>\n",
       "  </tbody>\n",
       "</table>\n",
       "</div>"
      ],
      "text/plain": [
       "   Chapters Favs Follows    Published  Reviews Updated    Words  \\\n",
       "0         1    2     NaN   12/31/2019      1.0     NaN    6,840   \n",
       "1         1    1     NaN   12/31/2019      NaN     NaN   10,962   \n",
       "2         1    3       2   12/31/2019      NaN     NaN    8,592   \n",
       "3         2  NaN     NaN   12/31/2019      NaN     NaN    7,260   \n",
       "4         1    4       3   12/31/2019      NaN     NaN    1,529   \n",
       "\n",
       "              author                                   characters  \\\n",
       "0            reviews    Sirius B., Remus L., James P., Regulus B.   \n",
       "1           JoyI9199  Harry P., Draco M., Narcissa M., Charlie W.   \n",
       "2  MoonytheMarauder1                       [James P., Regulus B.]   \n",
       "3        LaviniaKatt                                    Cedric D.   \n",
       "4   Rowena-Moon-Moon                                          NaN   \n",
       "\n",
       "                genre language rating  \\\n",
       "0  Angst/Hurt/Comfort  English      T   \n",
       "1         Angst/Drama  English      M   \n",
       "2               Angst  English      M   \n",
       "3     Romance/Fantasy  English      M   \n",
       "4                 NaN  English      T   \n",
       "\n",
       "                                          story_link  \\\n",
       "0  https://www.fanfiction.net/s/13466909/1/If-You...   \n",
       "1  https://www.fanfiction.net/s/13466894/1/Bloody...   \n",
       "2  https://www.fanfiction.net/s/13466885/1/Nothin...   \n",
       "3  https://www.fanfiction.net/s/13466880/1/Patien...   \n",
       "4  https://www.fanfiction.net/s/13466807/1/An-Und...   \n",
       "\n",
       "                                            synopsis                    title  \\\n",
       "0  Regulus and James aren't happy. They know they...  If You Change Your Mind   \n",
       "1  When a plot from the Founder's age is revealed...         Bloody Ballgowns   \n",
       "2  Regulus Black is supposed to be dead, but he's...       Nothing Left To Do   \n",
       "3  This is a spin off of Harry Potter taking plac...     Patience is a Virtue   \n",
       "4  Harry makes a new discovery and perhaps a few ...         An Understanding   \n",
       "\n",
       "  published_mmyy               pairing  \n",
       "0        12-2019                   NaN  \n",
       "1        12-2019                   NaN  \n",
       "2        12-2019  James P., Regulus B.  \n",
       "3        12-2019                   NaN  \n",
       "4        12-2019                   NaN  "
      ]
     },
     "execution_count": 4,
     "metadata": {},
     "output_type": "execute_result"
    }
   ],
   "source": [
    "harry_df.head()"
   ]
  },
  {
   "attachments": {},
   "cell_type": "markdown",
   "metadata": {},
   "source": []
  },
  {
   "attachments": {},
   "cell_type": "markdown",
   "metadata": {},
   "source": [
    "Now let's see what columns are in this data set"
   ]
  },
  {
   "cell_type": "code",
   "execution_count": 5,
   "metadata": {},
   "outputs": [
    {
     "data": {
      "text/plain": [
       "Index(['Chapters', 'Favs', 'Follows', 'Published', 'Reviews', 'Updated',\n",
       "       'Words', 'author', 'characters', 'genre', 'language', 'rating',\n",
       "       'story_link', 'synopsis', 'title', 'published_mmyy', 'pairing'],\n",
       "      dtype='object')"
      ]
     },
     "execution_count": 5,
     "metadata": {},
     "output_type": "execute_result"
    }
   ],
   "source": [
    "harry_df.columns"
   ]
  },
  {
   "attachments": {},
   "cell_type": "markdown",
   "metadata": {},
   "source": [
    "Now let's see how many rows and columns there are in this data set. \n",
    "Also- let's see how many what type of data is in each column and how many are non-null values in each."
   ]
  },
  {
   "cell_type": "code",
   "execution_count": 7,
   "metadata": {},
   "outputs": [
    {
     "name": "stdout",
     "output_type": "stream",
     "text": [
      "<class 'pandas.core.frame.DataFrame'>\n",
      "RangeIndex: 648493 entries, 0 to 648492\n",
      "Data columns (total 17 columns):\n",
      " #   Column          Non-Null Count   Dtype  \n",
      "---  ------          --------------   -----  \n",
      " 0   Chapters        648493 non-null  int64  \n",
      " 1   Favs            576330 non-null  object \n",
      " 2   Follows         505289 non-null  object \n",
      " 3   Published       648493 non-null  object \n",
      " 4   Reviews         596304 non-null  float64\n",
      " 5   Updated         238265 non-null  object \n",
      " 6   Words           648493 non-null  object \n",
      " 7   author          648493 non-null  object \n",
      " 8   characters      585453 non-null  object \n",
      " 9   genre           588566 non-null  object \n",
      " 10  language        648493 non-null  object \n",
      " 11  rating          648493 non-null  object \n",
      " 12  story_link      648493 non-null  object \n",
      " 13  synopsis        648483 non-null  object \n",
      " 14  title           648478 non-null  object \n",
      " 15  published_mmyy  648493 non-null  object \n",
      " 16  pairing         391670 non-null  object \n",
      "dtypes: float64(1), int64(1), object(15)\n",
      "memory usage: 84.1+ MB\n"
     ]
    }
   ],
   "source": [
    "harry_df.shape\n",
    "harry_df.info()"
   ]
  },
  {
   "attachments": {},
   "cell_type": "markdown",
   "metadata": {},
   "source": [
    "Not too many numbers in this data set- only one interger value column and one decimel(float) number column. Mostly this data set is a lot of strings (objects)\n",
    "\n",
    "Now, let's do a count of how many null values are in each column!"
   ]
  },
  {
   "cell_type": "code",
   "execution_count": 8,
   "metadata": {},
   "outputs": [
    {
     "data": {
      "text/plain": [
       "Updated           410228\n",
       "pairing           256823\n",
       "Follows           143204\n",
       "Favs               72163\n",
       "characters         63040\n",
       "genre              59927\n",
       "Reviews            52189\n",
       "title                 15\n",
       "synopsis              10\n",
       "Words                  0\n",
       "author                 0\n",
       "Published              0\n",
       "language               0\n",
       "rating                 0\n",
       "story_link             0\n",
       "published_mmyy         0\n",
       "Chapters               0\n",
       "dtype: int64"
      ]
     },
     "execution_count": 8,
     "metadata": {},
     "output_type": "execute_result"
    }
   ],
   "source": [
    "harry_df.isnull().sum().sort_values(ascending=False)"
   ]
  },
  {
   "attachments": {},
   "cell_type": "markdown",
   "metadata": {},
   "source": [
    "Looks like the 'Updated' column has the most null values. I don't think I'm interested in this 'Date Updated' column anyways."
   ]
  },
  {
   "cell_type": "code",
   "execution_count": null,
   "metadata": {},
   "outputs": [],
   "source": []
  }
 ],
 "metadata": {
  "kernelspec": {
   "display_name": "venv",
   "language": "python",
   "name": "python3"
  },
  "language_info": {
   "codemirror_mode": {
    "name": "ipython",
    "version": 3
   },
   "file_extension": ".py",
   "mimetype": "text/x-python",
   "name": "python",
   "nbconvert_exporter": "python",
   "pygments_lexer": "ipython3",
   "version": "3.11.2"
  },
  "orig_nbformat": 4
 },
 "nbformat": 4,
 "nbformat_minor": 2
}
