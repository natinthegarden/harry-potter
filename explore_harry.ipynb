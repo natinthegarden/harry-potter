{
 "cells": [
  {
   "attachments": {},
   "cell_type": "markdown",
   "metadata": {},
   "source": [
    "<h1>Harry Potter Fan Fiction Dataset Analysis!</h1>\n",
    "\n",
    "<i>This is a student project practicing data analysis</i>\n",
    "\n",
    "<b>Link to Dataset: </b>https://www.kaggle.com/datasets/nehatiwari03/harry-potter-fanfiction-data/versions/1?resource=download\n",
    "\n",
    "---\n",
    "<h3>Description</h3>\n",
    "This data set was created by a Kaggle user. She scraped data from Harry Potter fanfiction.net. This is where Harry Potter fans can publish fanfiction! It contains all Harry Potter Fanfiction story entries written between 2001-2019 in all available languages.\n",
    "\n",
    "\n",
    "<h3>Original Dataset Columns</h3> \n",
    "\n",
    "<b>Chapters</b>: Number of Chapters in the story\n",
    "\n",
    "<b>Favs</b>: Number of users that favorited the story\n",
    "\n",
    "<b>Follows</b>: Number of users that followed the story\n",
    "\n",
    "<b>Published</b>: Date Published\n",
    "\n",
    "<b>Reviews</b>: Number of Reviews\n",
    "\n",
    "<b>Date Updated</b>: Date Updated\n",
    "\n",
    "<b>Author</b>: Author username on FanFic.net\n",
    "\n",
    "<b>Characters</b>: Characters that appear in the story.\n",
    "\n",
    "<b>Genre</b>: Genre of the story (according to the author)\n",
    "\n",
    "<b>Language</b>: Language the story was written in\n",
    "\n",
    "<b>Rating</b>: alphabetic rating decided by the author\n",
    "\n",
    "<b>Story Link</b>: story URl\n",
    "\n",
    "<b>Synopsis</b>: summary/blurb added by author\n",
    "\n",
    "<b>Title</b>: Title of the story\n",
    "\n",
    "<b>Published mmyy</b>: Month and year of publish date\n",
    "\n",
    "<b>Pairing</b>: Character pairing in the story.\n",
    "\n",
    "---"
   ]
  },
  {
   "attachments": {},
   "cell_type": "markdown",
   "metadata": {},
   "source": [
    "<h2>Data Exploration</h2>\n",
    "\n",
    "\n",
    "*<b>Project Requirement: </b>Read Data from local CSV *\n",
    "\n",
    "First, I import pandas and read the CSV file!"
   ]
  },
  {
   "cell_type": "code",
   "execution_count": 4,
   "metadata": {},
   "outputs": [],
   "source": [
    "import pandas as pd\n",
    "harry_df = pd.read_csv('/Users/natalyanaser/desktop/hpcleanvlarge1.csv')"
   ]
  },
  {
   "attachments": {},
   "cell_type": "markdown",
   "metadata": {},
   "source": [
    "\n",
    "I use the head funtion to preview the raw data and check that it loaded properly."
   ]
  },
  {
   "cell_type": "code",
   "execution_count": 5,
   "metadata": {},
   "outputs": [
    {
     "data": {
      "text/html": [
       "<div>\n",
       "<style scoped>\n",
       "    .dataframe tbody tr th:only-of-type {\n",
       "        vertical-align: middle;\n",
       "    }\n",
       "\n",
       "    .dataframe tbody tr th {\n",
       "        vertical-align: top;\n",
       "    }\n",
       "\n",
       "    .dataframe thead th {\n",
       "        text-align: right;\n",
       "    }\n",
       "</style>\n",
       "<table border=\"1\" class=\"dataframe\">\n",
       "  <thead>\n",
       "    <tr style=\"text-align: right;\">\n",
       "      <th></th>\n",
       "      <th>Chapters</th>\n",
       "      <th>Favs</th>\n",
       "      <th>Follows</th>\n",
       "      <th>Published</th>\n",
       "      <th>Reviews</th>\n",
       "      <th>Updated</th>\n",
       "      <th>Words</th>\n",
       "      <th>author</th>\n",
       "      <th>characters</th>\n",
       "      <th>genre</th>\n",
       "      <th>language</th>\n",
       "      <th>rating</th>\n",
       "      <th>story_link</th>\n",
       "      <th>synopsis</th>\n",
       "      <th>title</th>\n",
       "      <th>published_mmyy</th>\n",
       "      <th>pairing</th>\n",
       "    </tr>\n",
       "  </thead>\n",
       "  <tbody>\n",
       "    <tr>\n",
       "      <th>0</th>\n",
       "      <td>1</td>\n",
       "      <td>2</td>\n",
       "      <td>NaN</td>\n",
       "      <td>12/31/2019</td>\n",
       "      <td>1.0</td>\n",
       "      <td>NaN</td>\n",
       "      <td>6,840</td>\n",
       "      <td>reviews</td>\n",
       "      <td>Sirius B., Remus L., James P., Regulus B.</td>\n",
       "      <td>Angst/Hurt/Comfort</td>\n",
       "      <td>English</td>\n",
       "      <td>T</td>\n",
       "      <td>https://www.fanfiction.net/s/13466909/1/If-You...</td>\n",
       "      <td>Regulus and James aren't happy. They know they...</td>\n",
       "      <td>If You Change Your Mind</td>\n",
       "      <td>12-2019</td>\n",
       "      <td>NaN</td>\n",
       "    </tr>\n",
       "    <tr>\n",
       "      <th>1</th>\n",
       "      <td>1</td>\n",
       "      <td>1</td>\n",
       "      <td>NaN</td>\n",
       "      <td>12/31/2019</td>\n",
       "      <td>NaN</td>\n",
       "      <td>NaN</td>\n",
       "      <td>10,962</td>\n",
       "      <td>JoyI9199</td>\n",
       "      <td>Harry P., Draco M., Narcissa M., Charlie W.</td>\n",
       "      <td>Angst/Drama</td>\n",
       "      <td>English</td>\n",
       "      <td>M</td>\n",
       "      <td>https://www.fanfiction.net/s/13466894/1/Bloody...</td>\n",
       "      <td>When a plot from the Founder's age is revealed...</td>\n",
       "      <td>Bloody Ballgowns</td>\n",
       "      <td>12-2019</td>\n",
       "      <td>NaN</td>\n",
       "    </tr>\n",
       "    <tr>\n",
       "      <th>2</th>\n",
       "      <td>1</td>\n",
       "      <td>3</td>\n",
       "      <td>2</td>\n",
       "      <td>12/31/2019</td>\n",
       "      <td>NaN</td>\n",
       "      <td>NaN</td>\n",
       "      <td>8,592</td>\n",
       "      <td>MoonytheMarauder1</td>\n",
       "      <td>[James P., Regulus B.]</td>\n",
       "      <td>Angst</td>\n",
       "      <td>English</td>\n",
       "      <td>M</td>\n",
       "      <td>https://www.fanfiction.net/s/13466885/1/Nothin...</td>\n",
       "      <td>Regulus Black is supposed to be dead, but he's...</td>\n",
       "      <td>Nothing Left To Do</td>\n",
       "      <td>12-2019</td>\n",
       "      <td>James P., Regulus B.</td>\n",
       "    </tr>\n",
       "    <tr>\n",
       "      <th>3</th>\n",
       "      <td>2</td>\n",
       "      <td>NaN</td>\n",
       "      <td>NaN</td>\n",
       "      <td>12/31/2019</td>\n",
       "      <td>NaN</td>\n",
       "      <td>NaN</td>\n",
       "      <td>7,260</td>\n",
       "      <td>LaviniaKatt</td>\n",
       "      <td>Cedric D.</td>\n",
       "      <td>Romance/Fantasy</td>\n",
       "      <td>English</td>\n",
       "      <td>M</td>\n",
       "      <td>https://www.fanfiction.net/s/13466880/1/Patien...</td>\n",
       "      <td>This is a spin off of Harry Potter taking plac...</td>\n",
       "      <td>Patience is a Virtue</td>\n",
       "      <td>12-2019</td>\n",
       "      <td>NaN</td>\n",
       "    </tr>\n",
       "    <tr>\n",
       "      <th>4</th>\n",
       "      <td>1</td>\n",
       "      <td>4</td>\n",
       "      <td>3</td>\n",
       "      <td>12/31/2019</td>\n",
       "      <td>NaN</td>\n",
       "      <td>NaN</td>\n",
       "      <td>1,529</td>\n",
       "      <td>Rowena-Moon-Moon</td>\n",
       "      <td>NaN</td>\n",
       "      <td>NaN</td>\n",
       "      <td>English</td>\n",
       "      <td>T</td>\n",
       "      <td>https://www.fanfiction.net/s/13466807/1/An-Und...</td>\n",
       "      <td>Harry makes a new discovery and perhaps a few ...</td>\n",
       "      <td>An Understanding</td>\n",
       "      <td>12-2019</td>\n",
       "      <td>NaN</td>\n",
       "    </tr>\n",
       "  </tbody>\n",
       "</table>\n",
       "</div>"
      ],
      "text/plain": [
       "   Chapters Favs Follows    Published  Reviews Updated    Words  \\\n",
       "0         1    2     NaN   12/31/2019      1.0     NaN    6,840   \n",
       "1         1    1     NaN   12/31/2019      NaN     NaN   10,962   \n",
       "2         1    3       2   12/31/2019      NaN     NaN    8,592   \n",
       "3         2  NaN     NaN   12/31/2019      NaN     NaN    7,260   \n",
       "4         1    4       3   12/31/2019      NaN     NaN    1,529   \n",
       "\n",
       "              author                                   characters  \\\n",
       "0            reviews    Sirius B., Remus L., James P., Regulus B.   \n",
       "1           JoyI9199  Harry P., Draco M., Narcissa M., Charlie W.   \n",
       "2  MoonytheMarauder1                       [James P., Regulus B.]   \n",
       "3        LaviniaKatt                                    Cedric D.   \n",
       "4   Rowena-Moon-Moon                                          NaN   \n",
       "\n",
       "                genre language rating  \\\n",
       "0  Angst/Hurt/Comfort  English      T   \n",
       "1         Angst/Drama  English      M   \n",
       "2               Angst  English      M   \n",
       "3     Romance/Fantasy  English      M   \n",
       "4                 NaN  English      T   \n",
       "\n",
       "                                          story_link  \\\n",
       "0  https://www.fanfiction.net/s/13466909/1/If-You...   \n",
       "1  https://www.fanfiction.net/s/13466894/1/Bloody...   \n",
       "2  https://www.fanfiction.net/s/13466885/1/Nothin...   \n",
       "3  https://www.fanfiction.net/s/13466880/1/Patien...   \n",
       "4  https://www.fanfiction.net/s/13466807/1/An-Und...   \n",
       "\n",
       "                                            synopsis                    title  \\\n",
       "0  Regulus and James aren't happy. They know they...  If You Change Your Mind   \n",
       "1  When a plot from the Founder's age is revealed...         Bloody Ballgowns   \n",
       "2  Regulus Black is supposed to be dead, but he's...       Nothing Left To Do   \n",
       "3  This is a spin off of Harry Potter taking plac...     Patience is a Virtue   \n",
       "4  Harry makes a new discovery and perhaps a few ...         An Understanding   \n",
       "\n",
       "  published_mmyy               pairing  \n",
       "0        12-2019                   NaN  \n",
       "1        12-2019                   NaN  \n",
       "2        12-2019  James P., Regulus B.  \n",
       "3        12-2019                   NaN  \n",
       "4        12-2019                   NaN  "
      ]
     },
     "execution_count": 5,
     "metadata": {},
     "output_type": "execute_result"
    }
   ],
   "source": [
    "harry_df.head()"
   ]
  },
  {
   "attachments": {},
   "cell_type": "markdown",
   "metadata": {},
   "source": [
    "Now let's see what columns are in this dataset"
   ]
  },
  {
   "cell_type": "code",
   "execution_count": 6,
   "metadata": {},
   "outputs": [
    {
     "data": {
      "text/plain": [
       "Index(['Chapters', 'Favs', 'Follows', 'Published', 'Reviews', 'Updated',\n",
       "       'Words', 'author', 'characters', 'genre', 'language', 'rating',\n",
       "       'story_link', 'synopsis', 'title', 'published_mmyy', 'pairing'],\n",
       "      dtype='object')"
      ]
     },
     "execution_count": 6,
     "metadata": {},
     "output_type": "execute_result"
    }
   ],
   "source": [
    "harry_df.columns"
   ]
  },
  {
   "attachments": {},
   "cell_type": "markdown",
   "metadata": {},
   "source": [
    "\n",
    "Now that we've lisited the columns, let's see *how many* rows and columns are in this data set. \n",
    "Also, let's see what type of data is in each column and how many non-null values are within each column"
   ]
  },
  {
   "cell_type": "code",
   "execution_count": 7,
   "metadata": {},
   "outputs": [
    {
     "name": "stdout",
     "output_type": "stream",
     "text": [
      "<class 'pandas.core.frame.DataFrame'>\n",
      "RangeIndex: 648493 entries, 0 to 648492\n",
      "Data columns (total 17 columns):\n",
      " #   Column          Non-Null Count   Dtype  \n",
      "---  ------          --------------   -----  \n",
      " 0   Chapters        648493 non-null  int64  \n",
      " 1   Favs            576330 non-null  object \n",
      " 2   Follows         505289 non-null  object \n",
      " 3   Published       648493 non-null  object \n",
      " 4   Reviews         596304 non-null  float64\n",
      " 5   Updated         238265 non-null  object \n",
      " 6   Words           648493 non-null  object \n",
      " 7   author          648493 non-null  object \n",
      " 8   characters      585453 non-null  object \n",
      " 9   genre           588566 non-null  object \n",
      " 10  language        648493 non-null  object \n",
      " 11  rating          648493 non-null  object \n",
      " 12  story_link      648493 non-null  object \n",
      " 13  synopsis        648483 non-null  object \n",
      " 14  title           648478 non-null  object \n",
      " 15  published_mmyy  648493 non-null  object \n",
      " 16  pairing         391670 non-null  object \n",
      "dtypes: float64(1), int64(1), object(15)\n",
      "memory usage: 84.1+ MB\n"
     ]
    }
   ],
   "source": [
    "harry_df.shape\n",
    "harry_df.info()"
   ]
  },
  {
   "attachments": {},
   "cell_type": "markdown",
   "metadata": {},
   "source": [
    "\n",
    "Not too many numbers in this data set! Only one interger value column and one decimel(float) number column. Mostly this data set is a lot of strings (objects)"
   ]
  },
  {
   "attachments": {},
   "cell_type": "markdown",
   "metadata": {},
   "source": [
    "Now, let's do a count of how many null values are in each column!"
   ]
  },
  {
   "cell_type": "code",
   "execution_count": 8,
   "metadata": {},
   "outputs": [
    {
     "data": {
      "text/plain": [
       "Updated           410228\n",
       "pairing           256823\n",
       "Follows           143204\n",
       "Favs               72163\n",
       "characters         63040\n",
       "genre              59927\n",
       "Reviews            52189\n",
       "title                 15\n",
       "synopsis              10\n",
       "Words                  0\n",
       "author                 0\n",
       "Published              0\n",
       "language               0\n",
       "rating                 0\n",
       "story_link             0\n",
       "published_mmyy         0\n",
       "Chapters               0\n",
       "dtype: int64"
      ]
     },
     "execution_count": 8,
     "metadata": {},
     "output_type": "execute_result"
    }
   ],
   "source": [
    "harry_df.isnull().sum().sort_values(ascending=False)"
   ]
  },
  {
   "attachments": {},
   "cell_type": "markdown",
   "metadata": {},
   "source": [
    "\n",
    "Looks like the **'Updated'** column has the most null values. I don't think I'm interested in this 'Date Updated' column anyways. I'll probably delete this."
   ]
  },
  {
   "attachments": {},
   "cell_type": "markdown",
   "metadata": {},
   "source": [
    "I think I'll also be **splitting 'published_mmyy'** column into 2 columns to make looking at trends over months or years possible. "
   ]
  },
  {
   "attachments": {},
   "cell_type": "markdown",
   "metadata": {},
   "source": [
    "Now I'm curious about the different **languages** of fan fics included in this dataset!"
   ]
  },
  {
   "cell_type": "code",
   "execution_count": 9,
   "metadata": {},
   "outputs": [
    {
     "data": {
      "text/plain": [
       "array(['English', 'Spanish', 'Portuguese', 'Polish', 'French',\n",
       "       'Indonesian', 'German', 'Czech', 'Russian', 'Turkish', 'Italian',\n",
       "       'Chinese', 'Afrikaans', 'Catalan', 'Dutch', 'Hungarian', 'Danish',\n",
       "       'Norwegian', 'Greek', 'Slovak', 'Farsi', 'Swedish', 'Latin',\n",
       "       'Albanian', 'Finnish', 'Romanian', 'Thai', 'Vietnamese',\n",
       "       'Esperanto', 'Hebrew', 'Ukrainian', 'Hindi', 'Japanese',\n",
       "       'Filipino', 'Serbian', 'Croatian', 'Korean', 'Bulgarian',\n",
       "       'Estonian', 'Devanagari', 'Malay', 'Arabic', 'Icelandic'],\n",
       "      dtype=object)"
      ]
     },
     "execution_count": 9,
     "metadata": {},
     "output_type": "execute_result"
    }
   ],
   "source": [
    "harry_df['language'].unique()\n"
   ]
  },
  {
   "attachments": {},
   "cell_type": "markdown",
   "metadata": {},
   "source": [
    "\n",
    "Wow, that's quite a few different languages. I'll probably delete all languages other than English for this particular data analysis."
   ]
  },
  {
   "attachments": {},
   "cell_type": "markdown",
   "metadata": {},
   "source": [
    "I wonder how many different story **genres** there are..."
   ]
  },
  {
   "cell_type": "code",
   "execution_count": 10,
   "metadata": {},
   "outputs": [
    {
     "data": {
      "text/plain": [
       "array(['Angst/Hurt/Comfort', 'Angst/Drama', 'Angst', 'Romance/Fantasy',\n",
       "       nan, 'Sci-Fi', 'Hurt/Comfort/Friendship', 'Family/Hurt/Comfort',\n",
       "       'Angst/Romance', 'Romance/Supernatural', 'Angst/Family',\n",
       "       'Fantasy/Adventure', 'Angst/Tragedy', 'Friendship/Romance',\n",
       "       'Drama/Supernatural', 'Romance/Angst', 'Hurt/Comfort/Romance',\n",
       "       'Romance', 'Drama/Suspense', 'Romance/Friendship',\n",
       "       'Romance/Spiritual', 'Romance/Drama', 'Hurt/Comfort/Family',\n",
       "       'Drama/Tragedy', 'Romance/Humor', 'Romance/Hurt/Comfort',\n",
       "       'Drama/Angst', 'Friendship/Hurt/Comfort', 'Adventure/Romance',\n",
       "       'Humor/Family', 'Family', 'Suspense/Mystery', 'Family/Angst',\n",
       "       'Humor/Romance', 'Romance/Adventure', 'Adventure/Parody',\n",
       "       'Romance/Family', 'Adventure/Mystery', 'Mystery/Suspense',\n",
       "       'Poetry/Romance', 'Fantasy/Parody', 'Hurt/Comfort',\n",
       "       'Drama/Romance', 'Humor/Horror', 'Friendship/Family',\n",
       "       'Adventure/Humor', 'Family/Romance', 'Tragedy/Angst', 'Adventure',\n",
       "       'Suspense', 'Drama/Family', 'Supernatural', 'Drama/Adventure',\n",
       "       'Romance/Mystery', 'Adventure/Hurt/Comfort', 'Humor',\n",
       "       'Tragedy/Romance', 'Adventure/Family', 'Friendship',\n",
       "       'Adventure/Fantasy', 'Mystery/Friendship', 'Family/Mystery',\n",
       "       'Romance/Horror', 'Drama', 'Drama/Friendship', 'Crime/Drama',\n",
       "       'Angst/Adventure', 'Hurt/Comfort/Angst', 'Humor/Adventure',\n",
       "       'Hurt/Comfort/Drama', 'Supernatural/Romance',\n",
       "       'Friendship/Suspense', 'Fantasy/Supernatural',\n",
       "       'Adventure/Friendship', 'Friendship/Mystery', 'Fantasy/Romance',\n",
       "       'Angst/Friendship', 'Romance/Suspense', 'Fantasy/Spiritual',\n",
       "       'Fantasy/Humor', 'Supernatural/Mystery', 'Drama/Crime',\n",
       "       'Horror/Romance', 'Romance/Tragedy', 'Drama/Hurt/Comfort',\n",
       "       'Humor/Parody', 'Adventure/Drama', 'Horror/Fantasy', 'Fantasy',\n",
       "       'Drama/Mystery', 'Family/Adventure', 'Crime', 'Family/Humor',\n",
       "       'Drama/Fantasy', 'Adventure/Suspense', 'Family/Friendship',\n",
       "       'Supernatural/Horror', 'Angst/Poetry', 'Suspense/Humor',\n",
       "       'Mystery/Tragedy', 'Crime/Romance', 'Mystery/Horror',\n",
       "       'Angst/Horror', 'Humor/Drama', 'Romance/Poetry', 'Western/Drama',\n",
       "       'Mystery/Fantasy', 'Tragedy', 'Tragedy/Hurt/Comfort',\n",
       "       'Tragedy/Fantasy', 'Fantasy/Friendship', 'Humor/Friendship',\n",
       "       'Humor/Mystery', 'Drama/Spiritual', 'Family/Drama', 'Poetry/Angst',\n",
       "       'Poetry', 'Hurt/Comfort/Tragedy', 'Horror/Humor',\n",
       "       'Humor/Hurt/Comfort', 'Horror/Friendship', 'Friendship/Humor',\n",
       "       'Mystery/Hurt/Comfort', 'Friendship/Drama', 'Parody/Humor',\n",
       "       'Drama/Parody', 'Spiritual/Poetry', 'Suspense/Adventure',\n",
       "       'Fantasy/Drama', 'Humor/Poetry', 'Suspense/Friendship',\n",
       "       'Humor/Crime', 'Friendship/Angst', 'Tragedy/Crime',\n",
       "       'Adventure/Supernatural', 'Hurt/Comfort/Supernatural',\n",
       "       'Family/Tragedy', 'Angst/Humor', 'Mystery/Humor', 'Horror/Parody',\n",
       "       'Suspense/Sci-Fi', 'Adventure/Tragedy', 'Humor/Fantasy',\n",
       "       'Mystery/Romance', 'Sci-Fi/Romance', 'Hurt/Comfort/Adventure',\n",
       "       'Family/Fantasy', 'Parody', 'Friendship/Adventure', 'Horror/Crime',\n",
       "       'Friendship/Tragedy', 'Suspense/Drama', 'Supernatural/Fantasy',\n",
       "       'Horror/Supernatural', 'Romance/Crime', 'Supernatural/Suspense',\n",
       "       'Fantasy/Tragedy', 'Fantasy/Angst', 'Tragedy/Drama', 'Mystery',\n",
       "       'Horror/Angst', 'Supernatural/Family', 'Tragedy/Friendship',\n",
       "       'Horror', 'Supernatural/Adventure', 'Supernatural/Humor',\n",
       "       'Tragedy/Family', 'Drama/Humor', 'Fantasy/Sci-Fi',\n",
       "       'Mystery/Supernatural', 'Angst/Mystery', 'Friendship/Fantasy',\n",
       "       'Friendship/Parody', 'Fantasy/Mystery', 'Sci-Fi/Fantasy',\n",
       "       'Humor/Angst', 'Fantasy/Family', 'Hurt/Comfort/Humor',\n",
       "       'Mystery/Drama', 'Angst/Crime', 'Adventure/Crime',\n",
       "       'Hurt/Comfort/Mystery', 'Tragedy/Horror', 'Supernatural/Tragedy',\n",
       "       'Suspense/Family', 'Humor/Tragedy', 'Adventure/Angst',\n",
       "       'Parody/Fantasy', 'Suspense/Romance', 'Crime/Horror',\n",
       "       'Spiritual/Supernatural', 'Sci-Fi/Tragedy', 'Horror/Family',\n",
       "       'Crime/Fantasy', 'Crime/Tragedy', 'Horror/Suspense',\n",
       "       'Western/Fantasy', 'Adventure/Sci-Fi', 'Hurt/Comfort/Suspense',\n",
       "       'Poetry/Drama', 'Angst/Sci-Fi', 'Horror/Drama',\n",
       "       'Suspense/Supernatural', 'Crime/Hurt/Comfort',\n",
       "       'Spiritual/Hurt/Comfort', 'Mystery/Angst', 'Mystery/Family',\n",
       "       'Poetry/Spiritual', 'Fantasy/Horror', 'Angst/Fantasy',\n",
       "       'Adventure/Spiritual', 'Fantasy/Hurt/Comfort', 'Mystery/Crime',\n",
       "       'Spiritual/Drama', 'Mystery/Adventure', 'Crime/Angst',\n",
       "       'Horror/Tragedy', 'Spiritual/Family', 'Angst/Suspense',\n",
       "       'Suspense/Crime', 'Crime/Adventure', 'Hurt/Comfort/Horror',\n",
       "       'Drama/Horror', 'Parody/Romance', 'Friendship/Horror',\n",
       "       'Sci-Fi/Supernatural', 'Romance/Parody', 'Crime/Humor',\n",
       "       'Suspense/Angst', 'Adventure/Horror', 'Crime/Suspense',\n",
       "       'Crime/Family', 'Horror/Mystery', 'Supernatural/Hurt/Comfort',\n",
       "       'Suspense/Tragedy', 'Supernatural/Friendship', 'Fantasy/Crime',\n",
       "       'Suspense/Horror', 'Parody/Tragedy', 'Family/Suspense',\n",
       "       'Tragedy/Poetry', 'Spiritual/Romance', 'Humor/Sci-Fi',\n",
       "       'Crime/Mystery', 'Parody/Angst', 'Poetry/Fantasy',\n",
       "       'Tragedy/Suspense', 'Supernatural/Spiritual',\n",
       "       'Hurt/Comfort/Fantasy', 'Poetry/Hurt/Comfort',\n",
       "       'Sci-Fi/Hurt/Comfort', 'Supernatural/Drama',\n",
       "       'Tragedy/Supernatural', 'Hurt/Comfort/Crime',\n",
       "       'Family/Supernatural', 'Suspense/Hurt/Comfort', 'Parody/Mystery',\n",
       "       'Humor/Suspense', 'Sci-Fi/Family', 'Sci-Fi/Adventure', 'Spiritual',\n",
       "       'Supernatural/Crime', 'Western/Romance', 'Mystery/Sci-Fi',\n",
       "       'Romance/Sci-Fi', 'Spiritual/Adventure', 'Tragedy/Adventure',\n",
       "       'Poetry/Friendship', 'Humor/Spiritual', 'Drama/Poetry',\n",
       "       'Poetry/Family', 'Horror/Poetry', 'Fantasy/Suspense',\n",
       "       'Hurt/Comfort/Spiritual', 'Spiritual/Mystery', 'Sci-Fi/Mystery',\n",
       "       'Angst/Supernatural', 'Poetry/Crime', 'Spiritual/Friendship',\n",
       "       'Sci-Fi/Crime', 'Sci-Fi/Drama', 'Family/Spiritual',\n",
       "       'Supernatural/Angst', 'Horror/Adventure', 'Family/Crime',\n",
       "       'Sci-Fi/Friendship', 'Friendship/Friendship', 'Parody/Adventure',\n",
       "       'Horror/Hurt/Comfort', 'Tragedy/Spiritual', 'Western/Crime',\n",
       "       'Family/Parody', 'Crime/Friendship', 'Parody/Drama',\n",
       "       'Poetry/Tragedy', 'Crime/Supernatural', 'Sci-Fi/Suspense',\n",
       "       'Friendship/Supernatural', 'Humor/Supernatural',\n",
       "       'Poetry/Adventure', 'Parody/Friendship', 'Fantasy/Poetry',\n",
       "       'Hurt/Comfort/Poetry', 'Western/Adventure', 'Friendship/Poetry',\n",
       "       'Spiritual/Humor', 'Drama/Sci-Fi', 'Spiritual/Angst',\n",
       "       'Sci-Fi/Spiritual', 'Spiritual/Fantasy', 'Crime/Parody',\n",
       "       'Poetry/Mystery', 'Tragedy/Humor', 'Friendship/Spiritual',\n",
       "       'Western/Suspense', 'Suspense/Fantasy', 'Hurt/Comfort/Sci-Fi',\n",
       "       'Family/Sci-Fi', 'Poetry/Horror', 'Poetry/Parody', 'Parody/Horror',\n",
       "       'Mystery/Poetry', 'Poetry/Humor', 'Supernatural/Sci-Fi',\n",
       "       'Tragedy/Mystery', 'Spiritual/Horror', 'Sci-Fi/Angst',\n",
       "       'Tragedy/Sci-Fi', 'Family/Western', 'Parody/Family',\n",
       "       'Supernatural/Poetry', 'Family/Horror', 'Adventure/Poetry',\n",
       "       'Mystery/Parody', 'Mystery/Spiritual', 'Supernatural/Parody',\n",
       "       'Western/Hurt/Comfort', 'Angst/Spiritual', 'Parody/Western',\n",
       "       'Friendship/Crime', 'Suspense/Spiritual', 'Family/Poetry',\n",
       "       'Spiritual/Western', 'Western/Poetry', 'Poetry/Western',\n",
       "       'Western/Supernatural', 'Adventure/Western', 'Sci-Fi/Humor',\n",
       "       'Western/Parody', 'Parody/Sci-Fi', 'Angst/Parody',\n",
       "       'Spiritual/Tragedy', 'Sci-Fi/Horror', 'Drama/Western',\n",
       "       'Romance/Western', 'Horror/Spiritual', 'Hurt/Comfort/Western',\n",
       "       'Parody/Suspense', 'Parody/Poetry', 'Parody/Supernatural',\n",
       "       'Friendship/Sci-Fi', 'Western', 'Poetry/Suspense', 'Poetry/Sci-Fi',\n",
       "       'Parody/Crime', 'Angst/Western', 'Hurt/Comfort/Parody',\n",
       "       'Western/Humor', 'Poetry/Supernatural', 'Parody/Hurt/Comfort',\n",
       "       'Spiritual/Sci-Fi', 'Horror/Sci-Fi', 'Parody/Spiritual',\n",
       "       'Spiritual/Suspense', 'Sci-Fi/Parody', 'Humor/Humor',\n",
       "       'Tragedy/Parody', 'Crime/Sci-Fi', 'Western/Family',\n",
       "       'Horror/Western', 'Western/Tragedy', 'Romance/Romance',\n",
       "       'Crime/Poetry', 'Suspense/Parody', 'Western/Mystery',\n",
       "       'Sci-Fi/Poetry', 'Spiritual/Parody', 'Humor/Western',\n",
       "       'Suspense/Poetry', 'Mystery/Western', 'Spiritual/Crime',\n",
       "       'Fantasy/Western', 'Family/Family', 'Crime/Spiritual',\n",
       "       'Angst/Angst', 'Adventure/Adventure', 'Western/Angst',\n",
       "       'Parody/Parody', 'Tragedy/Tragedy', 'Drama/Drama', 'Poetry/Poetry',\n",
       "       'Mystery/Mystery', 'Fantasy/Fantasy', 'Suspense/Suspense'],\n",
       "      dtype=object)"
      ]
     },
     "execution_count": 10,
     "metadata": {},
     "output_type": "execute_result"
    }
   ],
   "source": [
    "harry_df['genre'].unique()"
   ]
  },
  {
   "attachments": {},
   "cell_type": "markdown",
   "metadata": {},
   "source": [
    "\n",
    "Wow, there's a lot. The slashes seem to cover cross-genre stories. \n",
    "\n",
    "Now I'm curious **how many of each** category there might be"
   ]
  },
  {
   "cell_type": "code",
   "execution_count": 11,
   "metadata": {},
   "outputs": [
    {
     "data": {
      "text/plain": [
       "Romance              92137\n",
       "Romance/Humor        48612\n",
       "Romance/Drama        43204\n",
       "Humor                25236\n",
       "Humor/Romance        21698\n",
       "                     ...  \n",
       "Crime/Poetry             1\n",
       "Horror/Western           1\n",
       "Poetry/Western           1\n",
       "Western/Fantasy          1\n",
       "Suspense/Suspense        1\n",
       "Name: genre, Length: 403, dtype: int64"
      ]
     },
     "execution_count": 11,
     "metadata": {},
     "output_type": "execute_result"
    }
   ],
   "source": [
    "harry_df['genre'].value_counts()"
   ]
  },
  {
   "attachments": {},
   "cell_type": "markdown",
   "metadata": {},
   "source": [
    "\n",
    "Looks like Romance is a common category."
   ]
  },
  {
   "attachments": {},
   "cell_type": "markdown",
   "metadata": {},
   "source": [
    "I'd like to see the same information for the 'pairing' column. I'm curious what characters people have together most in their fanfictions."
   ]
  },
  {
   "cell_type": "code",
   "execution_count": 12,
   "metadata": {},
   "outputs": [
    {
     "data": {
      "text/plain": [
       "Draco M., Hermione G.             22140\n",
       "Harry P., Draco M.                18916\n",
       "Draco M., Harry P.                15747\n",
       "Hermione G., Draco M.             14919\n",
       "Harry P.                          13954\n",
       "                                  ...  \n",
       "Kingsley S., Rufus S.                 1\n",
       "Myrtle, Louis W.                      1\n",
       "[Hannah A., Dean T.]                  1\n",
       "Draco M., Severus S., Albus D.        1\n",
       "Cho C., Lucius M.                     1\n",
       "Name: pairing, Length: 9991, dtype: int64"
      ]
     },
     "execution_count": 12,
     "metadata": {},
     "output_type": "execute_result"
    }
   ],
   "source": [
    "harry_df['pairing'].unique()\n",
    "harry_df['pairing'].value_counts()"
   ]
  },
  {
   "attachments": {},
   "cell_type": "markdown",
   "metadata": {},
   "source": [
    "That's intersting, looks like a lot of people are interested in stories with Draco Malfoy. Or maybe they just are especially good at tagging stories with Draco?"
   ]
  },
  {
   "attachments": {},
   "cell_type": "markdown",
   "metadata": {},
   "source": [
    "Now, I'd like to see what characters are tagged most often in these fanfictions."
   ]
  },
  {
   "cell_type": "code",
   "execution_count": 13,
   "metadata": {},
   "outputs": [
    {
     "data": {
      "text/plain": [
       "Hermione G., Draco M.                      24568\n",
       "Harry P., Draco M.                         24240\n",
       "Draco M., Hermione G.                      22983\n",
       "Harry P.                                   20069\n",
       "James P., Lily Evans P.                    16345\n",
       "                                           ...  \n",
       "[Severus S., Hermione G.] OC, Tobias S.        1\n",
       "Albus D., Rubeus H., Aragog                    1\n",
       "[Ron W., Hermione G.] Pansy P.                 1\n",
       "[Ginny W., Rabastan L.]                        1\n",
       "Cho C., Lucius M.                              1\n",
       "Name: characters, Length: 36517, dtype: int64"
      ]
     },
     "execution_count": 13,
     "metadata": {},
     "output_type": "execute_result"
    }
   ],
   "source": [
    "harry_df['characters'].unique()\n",
    "harry_df['characters'].value_counts()"
   ]
  },
  {
   "attachments": {},
   "cell_type": "markdown",
   "metadata": {},
   "source": [
    "Now I'd like to explore our only couple numeric categories: **Number of Reviews** given. And **Number of Chapters**."
   ]
  },
  {
   "cell_type": "code",
   "execution_count": 14,
   "metadata": {},
   "outputs": [
    {
     "data": {
      "text/plain": [
       "count    648493.000000\n",
       "mean          4.180192\n",
       "std           8.499502\n",
       "min           1.000000\n",
       "25%           1.000000\n",
       "50%           1.000000\n",
       "75%           4.000000\n",
       "max         542.000000\n",
       "Name: Chapters, dtype: float64"
      ]
     },
     "execution_count": 14,
     "metadata": {},
     "output_type": "execute_result"
    }
   ],
   "source": [
    "harry_df['Chapters'].describe()"
   ]
  },
  {
   "cell_type": "code",
   "execution_count": 15,
   "metadata": {},
   "outputs": [
    {
     "data": {
      "text/plain": [
       "count    596304.000000\n",
       "mean         36.752712\n",
       "std         202.629776\n",
       "min           1.000000\n",
       "25%           3.000000\n",
       "50%           7.000000\n",
       "75%          19.000000\n",
       "max       38111.000000\n",
       "Name: Reviews, dtype: float64"
      ]
     },
     "execution_count": 15,
     "metadata": {},
     "output_type": "execute_result"
    }
   ],
   "source": [
    "harry_df['Reviews'].describe()"
   ]
  },
  {
   "attachments": {},
   "cell_type": "markdown",
   "metadata": {},
   "source": [
    "\n",
    "We can see that the average number of chapters is 4. The average number of Reiews is 36. \n",
    "\n",
    "However, both these averages are pretty skewed considering how how big max values are in both these categories! I'd like to look at median too."
   ]
  },
  {
   "cell_type": "code",
   "execution_count": 16,
   "metadata": {},
   "outputs": [
    {
     "name": "stdout",
     "output_type": "stream",
     "text": [
      "Median Reviews: 7.0\n"
     ]
    }
   ],
   "source": [
    "median_Reviews = harry_df['Reviews'].median()\n",
    "print(\"Median Reviews:\", median_Reviews)"
   ]
  },
  {
   "cell_type": "code",
   "execution_count": 17,
   "metadata": {},
   "outputs": [
    {
     "name": "stdout",
     "output_type": "stream",
     "text": [
      "Median Chapters: 1.0\n"
     ]
    }
   ],
   "source": [
    "median_Chapters = harry_df['Chapters'].median()\n",
    "print(\"Median Chapters:\", median_Chapters)"
   ]
  },
  {
   "cell_type": "markdown",
   "metadata": {},
   "source": []
  }
 ],
 "metadata": {
  "kernelspec": {
   "display_name": "venv",
   "language": "python",
   "name": "python3"
  },
  "language_info": {
   "codemirror_mode": {
    "name": "ipython",
    "version": 3
   },
   "file_extension": ".py",
   "mimetype": "text/x-python",
   "name": "python",
   "nbconvert_exporter": "python",
   "pygments_lexer": "ipython3",
   "version": "3.11.2"
  },
  "orig_nbformat": 4
 },
 "nbformat": 4,
 "nbformat_minor": 2
}
